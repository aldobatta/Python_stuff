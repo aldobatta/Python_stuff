{
 "cells": [
  {
   "cell_type": "markdown",
   "metadata": {},
   "source": [
    "* **Crea una lista que contenga los números del 0 al 10**\n",
    " \n",
    "Las listas se definen con brackets cuadrados y dentro de ellos pueden tener cero (una lista vacia) o más elementos, que pueden ser una combinación de enteros, floats, o strings. Estos elementos se separan con comas \",\".\n",
    "\n",
    "`Lista = ['a', b, 2334, -3434.5]`\n",
    "\n",
    "esta lista tiene los elementos, 'a', b, 2334 y -3434.5\n",
    "\n",
    "* Enteros -> 0,1,2, -3435, 456565 etc.\n",
    "* floats -> 0.2 1.34 1e454 (números con decimales)\n",
    "* strings -> Colección de caracteres definidos entre comillas (ya sean dobles o simples) \"gato\", 'perro', 'perro y #', los espacios en blanco cuentan como caracter.\n",
    "\n",
    "\n",
    "Para crear una lista con un rango de numeros, lo puedes hacer a mano, o usando una de las funciones basicas de python `range()`"
   ]
  },
  {
   "cell_type": "code",
   "execution_count": 5,
   "metadata": {
    "collapsed": false
   },
   "outputs": [
    {
     "name": "stdout",
     "output_type": "stream",
     "text": [
      "[0, 1, 2, 3, 4, 5, 6, 7, 8, 9, 10]\n"
     ]
    }
   ],
   "source": [
    "L = range(0,11) # la funcion range crea una lista con enteros en el intervalo (start,stop -1)\n",
    "                # por alguna extraña razón python hace eso muy seguido, definir cosas que\n",
    "                # no consideran el ultimo elemento (como aqui el 11)\n",
    "print (L)"
   ]
  },
  {
   "cell_type": "markdown",
   "metadata": {},
   "source": [
    " -     **Haciendo slicing en la primera lista, define una segunda lista que contenga solo los números impares (de la primera lista).**\n"
   ]
  },
  {
   "cell_type": "code",
   "execution_count": 7,
   "metadata": {
    "collapsed": false
   },
   "outputs": [
    {
     "name": "stdout",
     "output_type": "stream",
     "text": [
      "[1, 3, 5, 7, 9]\n"
     ]
    }
   ],
   "source": [
    "# Una vez definida la lista L podemos acceder a sus elementos usando los brackets cuadrados [ ]\n",
    "# dentro de los brackets indicamos que elementos (o elemento en particular) queremos.\n",
    "# Slicing es cortar o seleccionar una parte de una lista (tambien funciona con arreglos y otros\n",
    "# tipos de datos)\n",
    "\n",
    "L_odd = L[1::2]  \n",
    "print (L_odd)"
   ]
  },
  {
   "cell_type": "code",
   "execution_count": 57,
   "metadata": {
    "collapsed": false
   },
   "outputs": [
    {
     "name": "stdout",
     "output_type": "stream",
     "text": [
      "L[0], L[1], L[2], L[10]\n",
      "(0, 1, 2, 10)\n",
      "\n",
      " L[1::1]\n",
      "[1, 2, 3, 4, 5, 6, 7, 8, 9, 10]\n",
      "\n",
      " L[1::3]\n",
      "[1, 4, 7, 10]\n",
      "\n",
      " L[2::4]\n",
      "[2, 6, 10]\n"
     ]
    }
   ],
   "source": [
    "# el primer numero dentro de [ ] indica desde qué elemento queremos empezar nuestra selección.\n",
    "# Los elementos de una lista estan numerados (indexados), empezando desde cero hasta N-1\n",
    "\n",
    "# aqui abajo imprimimos el contenido de los primeros tres elementos con indice 0, 1 y 2 \n",
    "# y el onceavo elemento con index 10\n",
    "print ('L[0], L[1], L[2], L[10]')\n",
    "print (L[0], L[1], L[2], L[10])\n",
    "\n",
    "# los \"::\" dentro de [ ] indican que vamos a hacer un slicing en los elementos de la lista\n",
    "# el numero que sigue a \"::\" indica cada cuantos elementos queremos seleccionar de nuestra lista\n",
    "\n",
    "# Si hacemos\n",
    "\n",
    "print ('\\n L[1::1]')\n",
    "print (L[1::1]) # imprimimos una lista que empieza con el segundo elemento de la lista L\n",
    "                # y que toma cada un elemento de la lista L \n",
    "                # o sea que no más quitamos el primer elemento =p\n",
    "        \n",
    "# pero si hacemos \n",
    "print ('\\n L[1::3]')\n",
    "print (L[1::3]) # imprimimos una lista que empieza con el segundo elemento de la lista L\n",
    "                # y que toma cada tres elementos de la lista L \n",
    "\n",
    "    \n",
    "print ('\\n L[2::4]')\n",
    "print (L[2::4]) # imprimimos una lista que empieza con el tercer elemento de la lista L\n",
    "                # y que toma cada cuatro elementos de la lista L \n"
   ]
  },
  {
   "cell_type": "markdown",
   "metadata": {},
   "source": [
    " -     Haciendo slicing en la primera lista, y utilizando índices negativos, define una segunda lista que contenga los últimos 3 números (de la primera lista).\n",
    "\n",
    "Los elementos de las listas estan mumerados o indexados empexando de 0 a N-1, pero también estan indexados por números negativos que van de -1 a -N y empiezan por el último elemento de la lista."
   ]
  },
  {
   "cell_type": "code",
   "execution_count": 58,
   "metadata": {
    "collapsed": false
   },
   "outputs": [
    {
     "name": "stdout",
     "output_type": "stream",
     "text": [
      "('L[10]=', 10)\n",
      "('L[-1]=', 10)\n",
      "('L[-2]=', 9, 'que es igual a L[9]=', 9)\n",
      "[8, 9, 10]\n"
     ]
    }
   ],
   "source": [
    "# el ultimo elemento de la lista es\n",
    "print ('L[10]=', L[10])\n",
    "# pero también puede obtenerse con \n",
    "print ('L[-1]=', L[-1])\n",
    "\n",
    "# el penultimo elemento es\n",
    "print ('L[-2]=',L[-2],'que es igual a L[9]=',L[9])\n",
    "\n",
    "\n",
    "# Entonces si queremos los ultimos tres elementos usando slicing  eindexing negativo,\n",
    "# necesitamos empezar por indicar cual queremos que sea el primer elemento de nuestra \n",
    "# nueva lista, en este caso el -3, que es el ante-penultimo, de ahi usamos :: para indicar\n",
    "# que queremos hacer slicing, y luego indicamos cada cuantos elementos queremos a partir de ahi\n",
    "# el slicing se hace siempre a la derecha de los elementos, así que va a tomar los elementos\n",
    "# con indexing mayor (numero negativo mas pequeño)\n",
    "\n",
    "L_last3 = L[-3::1]\n",
    "\n",
    "print (L_last3)\n",
    "\n",
    "# [-3::1] -> dice que queremos empezar en el elemento -3 (antepenultimo) y tomar todos\n",
    "# (cada uno) de los elementos a su derecha i.e. los elementos -3, -2, y -1 (o sea 8,9 y 10).\n"
   ]
  },
  {
   "cell_type": "markdown",
   "metadata": {},
   "source": [
    "Utilizando lo que hemos visto de python, ordena los siguientes datos para que puedas acceder a la información de forma fácil.\n",
    "\n",
    "----\n",
    "\n",
    "Novak Djokovic\n",
    "\n",
    "País: Serbia\n",
    "\n",
    "Edad: 30\n",
    "\n",
    "Récord: 783–163\n",
    "\n",
    "Títulos ATP: 68\n",
    "\n",
    "----\n",
    "Roger Federer\n",
    "\n",
    "País: Suiza\n",
    "\n",
    "Edad: 36\n",
    "\n",
    "Récord: 1115-248\n",
    "\n",
    "Títulos ATP: 93\n",
    "\n",
    "----\n",
    "Rafael Nadal\n",
    "\n",
    "País: España\n",
    "\n",
    "Edad:31\n",
    "\n",
    "Récord: 855–183\n",
    "\n",
    "Títulos ATP: 73\n",
    "\n",
    "----\n",
    "Andrew Murray\n",
    "\n",
    "País: Escocia\n",
    "\n",
    "Edad: 30\n",
    "\n",
    "Récord:655–184\n",
    "\n",
    "Títulos ATP: 45\n",
    "\n",
    "\n",
    "**Como por ahi en el correo dice \"Diccionarios\" creo que hay que usar eso para este ejercicio  ** ¯\\_(ツ)_/¯ \n",
    "\n",
    "\n",
    "Casi no los uso porque no sirven pa cosas de cálculos =p, pero sirven pa eso de acomodar cosas como estas y organizar datos porque puedes meter listas en un diccionario y tener datos organizados con alguna etiqueta para acceder a ellos que según más facil, pero jamás lo he usado. Jamás! (hasta hoy).\n",
    "\n",
    "Tonces el chiste de los diccionarios es que los defines como una \"lista\" especial, que se genera ocn estos brackets \" { } \". Como en las listas, los elementos estan separados por comas \",\". Entonces el primer elemento puede ser `'Nombre':'Novak Djokovic'` y aqui estamos asignando un \"key\" o nombre al dato que queremos poner en el diccionario. El dato es el nombre del vato este, \"Marucho Von Bimbo\".\n",
    "\n",
    "Este de abajo es un diccionario con un solo elemento y este elemento tiene de nombre (key)  \"Nombre\" para poder identificar el dato (gato) asignado a ese \"key\", que va a ser el nombre del gato \"Marucho Von Bimbo\"."
   ]
  },
  {
   "cell_type": "code",
   "execution_count": 59,
   "metadata": {
    "collapsed": false
   },
   "outputs": [
    {
     "name": "stdout",
     "output_type": "stream",
     "text": [
      "Marucho Von Bimbo\n"
     ]
    }
   ],
   "source": [
    "gato = { 'Nombre': 'Marucho Von Bimbo'}\n",
    "\n",
    "print (gato['Nombre']) # accedemos al elemento del diccionario usando el \"key\"("
   ]
  },
  {
   "cell_type": "markdown",
   "metadata": {},
   "source": [
    "Y asi puedes poner un chingo de información sobre el gato (que tal vez debíera permanecer secreta)"
   ]
  },
  {
   "cell_type": "code",
   "execution_count": 60,
   "metadata": {
    "collapsed": false
   },
   "outputs": [
    {
     "name": "stdout",
     "output_type": "stream",
     "text": [
      "Catulina\n",
      "Muerte y Destrucción\n",
      "10000.0\n",
      "[-1, 0, 1]\n"
     ]
    }
   ],
   "source": [
    "gato = { 'Nombre': 'Marucho Von Bimbo',\n",
    "        'Alias':'Muerte y Destrucción',\n",
    "       'Hobbies': 'Dormir',\n",
    "       'Frase favorita': 'Miau',\n",
    "       'Trabajo':'Conquistar el mundo',\n",
    "       'archienemigo':'Mr. Aspiradora',\n",
    "       'Debilidad':'Jamás',\n",
    "       'Color favorito':'Rojo sangre',\n",
    "       'Artista favorito':'Catulina',\n",
    "       'Vidas cobradas': 1e4,\n",
    "       'Lista favorita': range(-1,2)}\n",
    "\n",
    "print (gato['Artista favorito'])\n",
    "print (gato['Alias'])\n",
    "print (gato['Vidas cobradas'])\n",
    "print (gato['Lista favorita'])"
   ]
  },
  {
   "cell_type": "code",
   "execution_count": 41,
   "metadata": {
    "collapsed": false
   },
   "outputs": [],
   "source": [
    "Novak = {'Nombre':'Novak Djokovic',\n",
    "\n",
    "'País': 'Serbia',\n",
    "\n",
    "'Edad': 30,\n",
    "\n",
    "'Récord': '783–163',\n",
    "\n",
    "'ATP': 68\n",
    "}\n",
    "\n",
    "Federer = {'nombre':'Roger Federer',\n",
    "\n",
    "'País': 'Suiza',\n",
    "\n",
    "'Edad': 36,\n",
    "\n",
    "'Récord': '1115-248',\n",
    "\n",
    "'ATP': 93}\n",
    "\n",
    "Nadal = { 'Nombre':'Rafael Nadal',\n",
    "\n",
    "'País': 'España',\n",
    "\n",
    "'Edad':31,\n",
    "\n",
    "'Récord': '855–183',\n",
    "\n",
    "'ATP': 73}\n",
    "\n",
    "Andy ={'Nombre':'Andrew Murray',\n",
    "\n",
    "'País': 'Escocia',\n",
    "\n",
    "'Edad': 30,\n",
    "\n",
    "'Récord':'655–184',\n",
    "\n",
    "'ATP': 45}"
   ]
  },
  {
   "cell_type": "markdown",
   "metadata": {},
   "source": [
    "**Utilizando tu solución, ¿cómo podrías desplegar los título ATP ganados por Andy (Andrew) Murray?**"
   ]
  },
  {
   "cell_type": "code",
   "execution_count": 61,
   "metadata": {
    "collapsed": false
   },
   "outputs": [
    {
     "name": "stdout",
     "output_type": "stream",
     "text": [
      "45\n"
     ]
    }
   ],
   "source": [
    "print (Andy['ATP'])"
   ]
  },
  {
   "cell_type": "code",
   "execution_count": null,
   "metadata": {
    "collapsed": true
   },
   "outputs": [],
   "source": []
  }
 ],
 "metadata": {
  "anaconda-cloud": {},
  "kernelspec": {
   "display_name": "Python [default]",
   "language": "python",
   "name": "python2"
  },
  "language_info": {
   "codemirror_mode": {
    "name": "ipython",
    "version": 2
   },
   "file_extension": ".py",
   "mimetype": "text/x-python",
   "name": "python",
   "nbconvert_exporter": "python",
   "pygments_lexer": "ipython2",
   "version": "2.7.11"
  }
 },
 "nbformat": 4,
 "nbformat_minor": 0
}
